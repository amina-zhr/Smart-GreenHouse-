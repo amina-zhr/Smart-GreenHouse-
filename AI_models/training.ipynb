{
 "cells": [
  {
   "cell_type": "code",
   "execution_count": 1,
   "metadata": {
    "ExecuteTime": {
     "end_time": "2024-05-27T10:24:48.672558800Z",
     "start_time": "2024-05-27T10:24:44.411747200Z"
    }
   },
   "outputs": [],
   "source": [
    "import pandas as pd\n",
    "from sklearn.model_selection import train_test_split\n",
    "from sklearn.metrics import classification_report\n",
    "from sklearn.linear_model import LogisticRegression\n",
    "import pickle"
   ]
  },
  {
   "cell_type": "code",
   "execution_count": 2,
   "metadata": {
    "ExecuteTime": {
     "end_time": "2024-05-27T10:41:59.071208600Z",
     "start_time": "2024-05-27T10:41:58.795010900Z"
    }
   },
   "outputs": [
    {
     "data": {
      "text/plain": "Index(['tempreature', 'humidity', 'water_level', 'N', 'P', 'K', 'hour',\n       'month'],\n      dtype='object')"
     },
     "execution_count": 2,
     "metadata": {},
     "output_type": "execute_result"
    }
   ],
   "source": [
    "data=pd.read_csv(\"C:/Users/user/OneDrive/Bureau/irrigation/IoTProcessed_Data.csv\")\n",
    "data['hour'] = pd.to_datetime(data['date'], format='%Y-%m-%d %H:%M:%S').dt.hour\n",
    "data['month'] = pd.to_datetime(data['date'], format='%Y-%m-%d %H:%M:%S').dt.month\n",
    "data.dropna(axis=0,inplace=True)\n",
    "xtrain,xtest,ytrain,ytest=train_test_split(data.drop(['date','Fan_actuator_OFF', 'Fan_actuator_ON', 'Watering_plant_pump_OFF',\n",
    "       'Watering_plant_pump_ON', 'Water_pump_actuator_OFF','Water_pump_actuator_ON'],axis=1),data[['Fan_actuator_ON','Watering_plant_pump_ON','Water_pump_actuator_ON']],test_size=.2,shuffle=True)\n",
    "xtrain.columns\n"
   ]
  },
  {
   "cell_type": "code",
   "execution_count": 3,
   "metadata": {
    "ExecuteTime": {
     "end_time": "2024-05-27T10:43:54.908840700Z",
     "start_time": "2024-05-27T10:43:53.891127800Z"
    }
   },
   "outputs": [
    {
     "name": "stdout",
     "output_type": "stream",
     "text": [
      "              precision    recall  f1-score   support\n",
      "\n",
      "         0.0       1.00      1.00      1.00      5245\n",
      "         1.0       1.00      1.00      1.00      2339\n",
      "\n",
      "    accuracy                           1.00      7584\n",
      "   macro avg       1.00      1.00      1.00      7584\n",
      "weighted avg       1.00      1.00      1.00      7584\n"
     ]
    },
    {
     "name": "stderr",
     "output_type": "stream",
     "text": [
      "C:\\Users\\user\\anaconda3\\envs\\islp\\Lib\\site-packages\\sklearn\\linear_model\\_logistic.py:458: ConvergenceWarning: lbfgs failed to converge (status=1):\n",
      "STOP: TOTAL NO. of ITERATIONS REACHED LIMIT.\n",
      "\n",
      "Increase the number of iterations (max_iter) or scale the data as shown in:\n",
      "    https://scikit-learn.org/stable/modules/preprocessing.html\n",
      "Please also refer to the documentation for alternative solver options:\n",
      "    https://scikit-learn.org/stable/modules/linear_model.html#logistic-regression\n",
      "  n_iter_i = _check_optimize_result(\n"
     ]
    }
   ],
   "source": [
    "#Fan_actuator_ON\n",
    "model1=LogisticRegression()\n",
    "model1.fit(xtrain,ytrain[\"Fan_actuator_ON\"])\n",
    "pre1=model1.predict(xtest)\n",
    "print(classification_report(ytest[\"Fan_actuator_ON\"],pre1))"
   ]
  },
  {
   "cell_type": "code",
   "execution_count": 4,
   "metadata": {
    "ExecuteTime": {
     "end_time": "2024-05-27T10:44:17.449285600Z",
     "start_time": "2024-05-27T10:44:16.971701800Z"
    }
   },
   "outputs": [
    {
     "name": "stdout",
     "output_type": "stream",
     "text": [
      "              precision    recall  f1-score   support\n",
      "\n",
      "         0.0       1.00      1.00      1.00      5783\n",
      "         1.0       1.00      1.00      1.00      1801\n",
      "\n",
      "    accuracy                           1.00      7584\n",
      "   macro avg       1.00      1.00      1.00      7584\n",
      "weighted avg       1.00      1.00      1.00      7584\n"
     ]
    },
    {
     "name": "stderr",
     "output_type": "stream",
     "text": [
      "C:\\Users\\user\\anaconda3\\envs\\islp\\Lib\\site-packages\\sklearn\\linear_model\\_logistic.py:458: ConvergenceWarning: lbfgs failed to converge (status=1):\n",
      "STOP: TOTAL NO. of ITERATIONS REACHED LIMIT.\n",
      "\n",
      "Increase the number of iterations (max_iter) or scale the data as shown in:\n",
      "    https://scikit-learn.org/stable/modules/preprocessing.html\n",
      "Please also refer to the documentation for alternative solver options:\n",
      "    https://scikit-learn.org/stable/modules/linear_model.html#logistic-regression\n",
      "  n_iter_i = _check_optimize_result(\n"
     ]
    }
   ],
   "source": [
    "#Watering_plant_pump_ON\n",
    "model2=LogisticRegression()\n",
    "model2.fit(xtrain,ytrain[\"Watering_plant_pump_ON\"])\n",
    "pre2=model2.predict(xtest)\n",
    "print(classification_report(ytest[\"Watering_plant_pump_ON\"],pre2))"
   ]
  },
  {
   "cell_type": "code",
   "execution_count": 5,
   "metadata": {
    "ExecuteTime": {
     "end_time": "2024-05-27T10:44:25.522147600Z",
     "start_time": "2024-05-27T10:44:24.570981800Z"
    }
   },
   "outputs": [
    {
     "name": "stdout",
     "output_type": "stream",
     "text": [
      "              precision    recall  f1-score   support\n",
      "\n",
      "         0.0       0.99      1.00      1.00      5847\n",
      "         1.0       0.99      0.98      0.98      1737\n",
      "\n",
      "    accuracy                           0.99      7584\n",
      "   macro avg       0.99      0.99      0.99      7584\n",
      "weighted avg       0.99      0.99      0.99      7584\n"
     ]
    },
    {
     "name": "stderr",
     "output_type": "stream",
     "text": [
      "C:\\Users\\user\\anaconda3\\envs\\islp\\Lib\\site-packages\\sklearn\\linear_model\\_logistic.py:458: ConvergenceWarning: lbfgs failed to converge (status=1):\n",
      "STOP: TOTAL NO. of ITERATIONS REACHED LIMIT.\n",
      "\n",
      "Increase the number of iterations (max_iter) or scale the data as shown in:\n",
      "    https://scikit-learn.org/stable/modules/preprocessing.html\n",
      "Please also refer to the documentation for alternative solver options:\n",
      "    https://scikit-learn.org/stable/modules/linear_model.html#logistic-regression\n",
      "  n_iter_i = _check_optimize_result(\n"
     ]
    }
   ],
   "source": [
    "#Water_pump_actuator_ON\n",
    "model3=LogisticRegression()\n",
    "model3.fit(xtrain,ytrain[\"Water_pump_actuator_ON\"])\n",
    "pre3=model3.predict(xtest)\n",
    "print(classification_report(ytest[\"Water_pump_actuator_ON\"],pre3))"
   ]
  },
  {
   "cell_type": "code",
   "execution_count": 7,
   "metadata": {
    "ExecuteTime": {
     "end_time": "2024-05-27T10:47:21.491152200Z",
     "start_time": "2024-05-27T10:47:21.439056900Z"
    }
   },
   "outputs": [],
   "source": [
    "with open(\"Fan_actuator_ON.pkl\",\"wb\") as f1:\n",
    "    pickle.dump(model1,f1)\n",
    "with open(\"Watering_plant_pump_ON.pkl\",\"wb\") as f2:\n",
    "    pickle.dump(model2,f2)\n",
    "with open(\"Water_pump_actuator_ON.pkl\",\"wb\") as f3:\n",
    "    pickle.dump(model3,f3)"
   ]
  }
 ],
 "metadata": {
  "kernelspec": {
   "display_name": "tf",
   "language": "python",
   "name": "python3"
  },
  "language_info": {
   "codemirror_mode": {
    "name": "ipython",
    "version": 3
   },
   "file_extension": ".py",
   "mimetype": "text/x-python",
   "name": "python",
   "nbconvert_exporter": "python",
   "pygments_lexer": "ipython3",
   "version": "3.9.17"
  }
 },
 "nbformat": 4,
 "nbformat_minor": 2
}
